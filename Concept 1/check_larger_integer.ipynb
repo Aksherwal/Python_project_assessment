{
 "cells": [
  {
   "cell_type": "markdown",
   "metadata": {},
   "source": [
    " # 2. Given two integers, find the larger one."
   ]
  },
  {
   "cell_type": "code",
   "execution_count": null,
   "metadata": {},
   "outputs": [],
   "source": [
    "# taking integer inputs as mentioned in question\n",
    "num1=int(input(\"Enter the first integer \"))\n",
    "num2=int(input(\"Enter the secod integer \"))\n",
    "\n",
    "# using comparision operators to find larger one\n",
    "if num1>num2:\n",
    "    print(num1,\" is larger integer\")\n",
    "elif num2>num1:\n",
    "    print(num2,\" is larger integer\")\n",
    "# They both can be equal also\n",
    "else:\n",
    "    print(\"Both are equal\")"
   ]
  }
 ],
 "metadata": {
  "kernelspec": {
   "display_name": "Python 3",
   "language": "python",
   "name": "python3"
  },
  "language_info": {
   "name": "python",
   "version": "3.11.4"
  }
 },
 "nbformat": 4,
 "nbformat_minor": 2
}

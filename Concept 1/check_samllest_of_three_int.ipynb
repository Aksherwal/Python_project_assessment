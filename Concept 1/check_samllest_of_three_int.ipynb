{
 "cells": [
  {
   "cell_type": "markdown",
   "metadata": {},
   "source": [
    "# 10. Given three integers, find the smallest one."
   ]
  },
  {
   "cell_type": "code",
   "execution_count": 11,
   "metadata": {},
   "outputs": [],
   "source": [
    "def check_samllest(n1,n2,n3):     #defined function to return smallest number\n",
    "    if n1<n2:\n",
    "        if n1<n3:\n",
    "            return n1\n",
    "        elif n1==n3:            #although n1 and n3 are equal but these are also smallest so printing any one of them\n",
    "            return n1\n",
    "        else:\n",
    "            return n3\n",
    "    elif n1==n2:\n",
    "        if n1<n3:\n",
    "            return n1\n",
    "        elif n1==n3:\n",
    "            return \"All are equal\"             #since all are equal so there is no smallest no largest\n",
    "        else:\n",
    "            return n3\n",
    "    else:                  #here already n1 is greater than n2 so comparing n2 and n3 only\n",
    "        if n2<n3:\n",
    "            return n2\n",
    "        elif n2==n3:\n",
    "            return n2\n",
    "        else:\n",
    "            return n3"
   ]
  },
  {
   "cell_type": "code",
   "execution_count": 14,
   "metadata": {},
   "outputs": [
    {
     "data": {
      "text/plain": [
       "4"
      ]
     },
     "execution_count": 14,
     "metadata": {},
     "output_type": "execute_result"
    }
   ],
   "source": [
    "check_samllest(5,4,5)"
   ]
  }
 ],
 "metadata": {
  "kernelspec": {
   "display_name": "Python 3",
   "language": "python",
   "name": "python3"
  },
  "language_info": {
   "codemirror_mode": {
    "name": "ipython",
    "version": 3
   },
   "file_extension": ".py",
   "mimetype": "text/x-python",
   "name": "python",
   "nbconvert_exporter": "python",
   "pygments_lexer": "ipython3",
   "version": "3.11.4"
  }
 },
 "nbformat": 4,
 "nbformat_minor": 2
}

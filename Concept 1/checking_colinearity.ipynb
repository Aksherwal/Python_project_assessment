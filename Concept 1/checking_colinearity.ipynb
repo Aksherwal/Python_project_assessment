{
 "cells": [
  {
   "cell_type": "markdown",
   "metadata": {},
   "source": [
    "# 9. Given three points, find out whether they lie on the same straight line or not."
   ]
  },
  {
   "cell_type": "code",
   "execution_count": null,
   "metadata": {},
   "outputs": [],
   "source": [
    "x1=int(input(\"Enter x co-ordinate of first point\"))         #taking co-ordinates from user.\n",
    "x2=int(input(\"Enter x co-ordinate of second point\"))\n",
    "x3=int(input(\"Enter x co-ordinate of third point\"))\n",
    "y1=int(input(\"Enter y co-ordinate of first point\"))\n",
    "y2=int(input(\"Enter y co-ordinate of second point\"))\n",
    "y3=int(input(\"Enter y co-ordinate of third point\"))\n",
    "#formula for area of triangle by three given points\n",
    "area=0.5*(x1(y1-y2)+x2(y3-y1)+x3(y1-y2))\n",
    "if area==0:                                   #the only case if points are on strainght line\n",
    "    print(\"Points lie on same straight line.\")\n",
    "else:\n",
    "    print(\"Points do not lie on same straight line.\")"
   ]
  }
 ],
 "metadata": {
  "kernelspec": {
   "display_name": "Python 3",
   "language": "python",
   "name": "python3"
  },
  "language_info": {
   "name": "python",
   "version": "3.11.4"
  }
 },
 "nbformat": 4,
 "nbformat_minor": 2
}

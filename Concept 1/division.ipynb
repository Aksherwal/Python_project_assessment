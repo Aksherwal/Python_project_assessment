{
 "cells": [
  {
   "cell_type": "markdown",
   "metadata": {},
   "source": [
    " # 5. Given two numbers, a and b, find the value of a/b (b may be zero)."
   ]
  },
  {
   "cell_type": "code",
   "execution_count": 4,
   "metadata": {},
   "outputs": [
    {
     "name": "stdout",
     "output_type": "stream",
     "text": [
      "Division by zero is not defined!\n"
     ]
    }
   ],
   "source": [
    "a=float(input(\" Enter first integer \"))                      #taking inputs from user\n",
    "b=float(input(\" Enter the second number \"))\n",
    "if b!=0:                                               #if we simply divide by 0 it will give error that's why using conditional statements\n",
    "    division=a/b                                            \n",
    "    print(\" We get a/b as: \",division)\n",
    "else:\n",
    "    print(\"Division by zero is not defined!\")"
   ]
  }
 ],
 "metadata": {
  "kernelspec": {
   "display_name": "Python 3",
   "language": "python",
   "name": "python3"
  },
  "language_info": {
   "codemirror_mode": {
    "name": "ipython",
    "version": 3
   },
   "file_extension": ".py",
   "mimetype": "text/x-python",
   "name": "python",
   "nbconvert_exporter": "python",
   "pygments_lexer": "ipython3",
   "version": "3.11.4"
  }
 },
 "nbformat": 4,
 "nbformat_minor": 2
}

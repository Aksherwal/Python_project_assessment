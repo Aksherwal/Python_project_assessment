{
 "cells": [
  {
   "cell_type": "markdown",
   "metadata": {},
   "source": [
    "# 8. Given a quadratic equation with coefficients a, b and c, find the two solutions (may be real or complex). You should not take the square root of a negative number in your code."
   ]
  },
  {
   "cell_type": "code",
   "execution_count": null,
   "metadata": {},
   "outputs": [],
   "source": [
    "a=int(input(\"Enter the coefficient of x square \"))            #taking coefficients from user using input\n",
    "b=int(input(\"Enter the coefficient of x \"))\n",
    "c=int(input(\"Enter the Constant term \"))\n",
    "if ((b**2)-4*a*c)<0:                                #applying condition for checking commplex roots\n",
    "    print(\"Complex Roots\")\n",
    "elif ((b**2)-4*a*c)>0:\n",
    "    r1=((-b)+((b**2)-4*a*c)**0.5)/2*a                    #applying formula for finding solution\n",
    "    r2=((-b)-((b**2)-4*a*c)**0.5)/2*a\n",
    "    print(\"Roots are \",r1,\"and\",r2)\n",
    "else:\n",
    "    print(\"Equal roots that is\",(-b)/2*a)               #roots may be equal , applying formula for that"
   ]
  }
 ],
 "metadata": {
  "kernelspec": {
   "display_name": "Python 3",
   "language": "python",
   "name": "python3"
  },
  "language_info": {
   "name": "python",
   "version": "3.11.4"
  }
 },
 "nbformat": 4,
 "nbformat_minor": 2
}

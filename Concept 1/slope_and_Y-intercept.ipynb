{
 "cells": [
  {
   "cell_type": "markdown",
   "metadata": {},
   "source": [
    "# 7. Given two points (x1, y1) and (x2, y2), find the slope and intercept of the line joining these two points (the line may be perfectly horizontal or vertical)."
   ]
  },
  {
   "cell_type": "code",
   "execution_count": null,
   "metadata": {},
   "outputs": [],
   "source": [
    "x1=int(input(\"Enter the x coordinate of first point \"))               #taking inputs from user\n",
    "y1=int(input(\"Enter the y coordinate of first point \"))\n",
    "x2=int(input(\"Enter the x coordinate of second point \"))\n",
    "y2=int(input(\"Enter the y coordinate of second point \"))\n",
    "if (x2-x1)!=0:                                                          #we could not simply devide by zero, it can give error that's why using condion for that\n",
    "    print(\"Slope of the line joining these point is \",(y2-y1)/(x2-x1))    #applying formula for slope\n",
    "    print(\"Y-intercept of the line joining these points is \",y1-(x1*(y2-y1)/(x2-x1)))    #applying formula for intercept\n",
    "elif (y2-y1)==0:                #for horizontal line\n",
    "    print(\"Slope is zero\")\n",
    "    print(\"Y-intercept is \",y1)\n",
    "else:\n",
    "    print(\"Slope is not defined\")                                #special condition when x coordinates of both the point are same\n",
    "    print(\"Y-intercept is infinity\")                             #means vertical line"
   ]
  }
 ],
 "metadata": {
  "kernelspec": {
   "display_name": "Python 3",
   "language": "python",
   "name": "python3"
  },
  "language_info": {
   "name": "python",
   "version": "3.11.4"
  }
 },
 "nbformat": 4,
 "nbformat_minor": 2
}

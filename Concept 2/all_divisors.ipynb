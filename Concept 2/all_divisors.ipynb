{
 "cells": [
  {
   "cell_type": "markdown",
   "metadata": {},
   "source": [
    "# 8. Given a positive integer, find all its divisors."
   ]
  },
  {
   "cell_type": "code",
   "execution_count": 5,
   "metadata": {},
   "outputs": [
    {
     "name": "stdout",
     "output_type": "stream",
     "text": [
      "All divisors of 10 are:\n",
      "1\n",
      "2\n",
      "5\n",
      "10\n"
     ]
    }
   ],
   "source": [
    "num=int(input(\"Enter a positive integer \"))         #taking integer input as mentioned in question\n",
    "if num>0:                                          #checking for positive integers\n",
    "    print(\"All divisors of\",num,\"are:\")          #we printed this outside loop so that it is printed only once\n",
    "    for i in range(1,num+1):\n",
    "        if num%i==0:                      #checking if num is divisible by numbers coming from range\n",
    "            print(i)\n",
    "else:\n",
    "    print(\"Please enter a positive integer!\")"
   ]
  }
 ],
 "metadata": {
  "kernelspec": {
   "display_name": "Python 3",
   "language": "python",
   "name": "python3"
  },
  "language_info": {
   "codemirror_mode": {
    "name": "ipython",
    "version": 3
   },
   "file_extension": ".py",
   "mimetype": "text/x-python",
   "name": "python",
   "nbconvert_exporter": "python",
   "pygments_lexer": "ipython3",
   "version": "3.11.4"
  }
 },
 "nbformat": 4,
 "nbformat_minor": 2
}

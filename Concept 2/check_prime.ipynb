{
 "cells": [
  {
   "cell_type": "markdown",
   "metadata": {},
   "source": [
    "# 4. Given a positive integer, find out if it’s prime or not."
   ]
  },
  {
   "cell_type": "code",
   "execution_count": 1,
   "metadata": {},
   "outputs": [],
   "source": [
    "#using user defined function\n",
    "def check_prime(n):\n",
    "    if n>=2:                                #smallest prime is 2 so we will accept equal or greater than 2\n",
    "        count=0\n",
    "        sq_root=int(n**0.5)\n",
    "        for i in range(2,sq_root+1):              # we will check divisiblity from 2 to square root(smallest valid range to be taken)\n",
    "            if n%i==0:\n",
    "                count+=1                         #count value will be increased if n is divisible by any other number greater or equal to 2(from range)\n",
    "        if count==0:       #this means n was not divisible by any number from range and count value remained 0\n",
    "            return \"prime\"\n",
    "        else:\n",
    "            return \"not prime\"\n",
    "    else:\n",
    "        return \"Please enter integer above 2(smallest prime)\"\n"
   ]
  },
  {
   "cell_type": "code",
   "execution_count": 8,
   "metadata": {},
   "outputs": [
    {
     "data": {
      "text/plain": [
       "'prime'"
      ]
     },
     "execution_count": 8,
     "metadata": {},
     "output_type": "execute_result"
    }
   ],
   "source": [
    "check_prime(101)"
   ]
  }
 ],
 "metadata": {
  "kernelspec": {
   "display_name": "Python 3",
   "language": "python",
   "name": "python3"
  },
  "language_info": {
   "codemirror_mode": {
    "name": "ipython",
    "version": 3
   },
   "file_extension": ".py",
   "mimetype": "text/x-python",
   "name": "python",
   "nbconvert_exporter": "python",
   "pygments_lexer": "ipython3",
   "version": "3.11.4"
  }
 },
 "nbformat": 4,
 "nbformat_minor": 2
}

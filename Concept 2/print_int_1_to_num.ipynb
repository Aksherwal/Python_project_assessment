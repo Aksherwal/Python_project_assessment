{
 "cells": [
  {
   "cell_type": "markdown",
   "metadata": {},
   "source": [
    "# 1. Given a positive integer, ptint all integers from 1 upto this number."
   ]
  },
  {
   "cell_type": "code",
   "execution_count": null,
   "metadata": {},
   "outputs": [],
   "source": [
    "num=int(input(\"Enter a positive integer \"))\n",
    "if num>0:                                             #checking the integer positive or not\n",
    "    print(\"Integers from 1 to this number are: \")\n",
    "    for i in range(1,num+1):                          #range goes from starting limit to one less than ending limit, that's why added one to that\n",
    "        print(i)\n",
    "else:\n",
    "    print(\"Please enter a positive integer\")"
   ]
  }
 ],
 "metadata": {
  "kernelspec": {
   "display_name": "Python 3",
   "language": "python",
   "name": "python3"
  },
  "language_info": {
   "codemirror_mode": {
    "name": "ipython",
    "version": 3
   },
   "file_extension": ".py",
   "mimetype": "text/x-python",
   "name": "python",
   "nbconvert_exporter": "python",
   "pygments_lexer": "ipython3",
   "version": "3.11.4"
  }
 },
 "nbformat": 4,
 "nbformat_minor": 2
}

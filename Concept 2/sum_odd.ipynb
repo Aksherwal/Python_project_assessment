{
 "cells": [
  {
   "cell_type": "markdown",
   "metadata": {},
   "source": [
    "# 5. Given a positive integer, find out the sum of all odd numbers from 1 up to this number."
   ]
  },
  {
   "cell_type": "code",
   "execution_count": 1,
   "metadata": {},
   "outputs": [
    {
     "name": "stdout",
     "output_type": "stream",
     "text": [
      "Sum of all odd numbers from 1 upto 10 is: 25\n"
     ]
    }
   ],
   "source": [
    "num=int(input(\"Enter a positive integer \"))  #taking integer input as mentioned in question\n",
    "if num>0:                                    #checking for positive integers\n",
    "    sum_num=0\n",
    "    for i in range(1,num+1):\n",
    "        if i%2!=0:                           #condition for odd numbers\n",
    "            sum_num+=i\n",
    "    print(\"Sum of all odd numbers from 1 upto\",num,\"is:\",sum_num)\n",
    "else:\n",
    "    print(\"Please enter a positive integer! \")\n",
    "            "
   ]
  }
 ],
 "metadata": {
  "kernelspec": {
   "display_name": "Python 3",
   "language": "python",
   "name": "python3"
  },
  "language_info": {
   "codemirror_mode": {
    "name": "ipython",
    "version": 3
   },
   "file_extension": ".py",
   "mimetype": "text/x-python",
   "name": "python",
   "nbconvert_exporter": "python",
   "pygments_lexer": "ipython3",
   "version": "3.11.4"
  }
 },
 "nbformat": 4,
 "nbformat_minor": 2
}

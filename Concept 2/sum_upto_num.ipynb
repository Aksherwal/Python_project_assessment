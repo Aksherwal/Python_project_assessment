{
 "cells": [
  {
   "cell_type": "markdown",
   "metadata": {},
   "source": [
    "# 2. Given a positive integer, find out the sum of all integers from 1 up to this number."
   ]
  },
  {
   "cell_type": "code",
   "execution_count": null,
   "metadata": {},
   "outputs": [],
   "source": [
    "num=int(input(\"Enter a positive integer \"))                  #taking integer input as mentioned in question\n",
    "if num>0:                                               #checking it is positive or not\n",
    "    sum_num=0                                       #initializing variable with zero variable  \n",
    "    for i in range(1,num+1):\n",
    "        sum_num+=i                                  # adding each output of range to it, so that we can sum of all integers upto num\n",
    "    print(\"Sum of itegers from 1 upto \", num,\" is: \",sum_num)\n",
    "else:\n",
    "    print(\"Please enter a positive integer\")"
   ]
  }
 ],
 "metadata": {
  "kernelspec": {
   "display_name": "Python 3",
   "language": "python",
   "name": "python3"
  },
  "language_info": {
   "codemirror_mode": {
    "name": "ipython",
    "version": 3
   },
   "file_extension": ".py",
   "mimetype": "text/x-python",
   "name": "python",
   "nbconvert_exporter": "python",
   "pygments_lexer": "ipython3",
   "version": "3.11.4"
  }
 },
 "nbformat": 4,
 "nbformat_minor": 2
}

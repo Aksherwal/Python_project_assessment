{
 "cells": [
  {
   "cell_type": "markdown",
   "metadata": {},
   "source": [
    "# 1. Given a list of numbers, find out its length."
   ]
  },
  {
   "cell_type": "code",
   "execution_count": null,
   "metadata": {},
   "outputs": [],
   "source": [
    "mylist=[5,0,8,6,3,7]        #given list\n",
    "count=0\n",
    "for i in mylist:           #loop will itrate over all the elements of list\n",
    "    count+=1               #each time 1 will be added in the loop\n",
    "print(\"Length of this list is:\",count)"
   ]
  }
 ],
 "metadata": {
  "language_info": {
   "name": "python"
  }
 },
 "nbformat": 4,
 "nbformat_minor": 2
}

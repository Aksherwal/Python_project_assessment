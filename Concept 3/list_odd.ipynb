{
 "cells": [
  {
   "cell_type": "markdown",
   "metadata": {},
   "source": [
    "# 6. Given a list of numbers, find all the odd numbers in it."
   ]
  },
  {
   "cell_type": "code",
   "execution_count": 1,
   "metadata": {},
   "outputs": [
    {
     "name": "stdout",
     "output_type": "stream",
     "text": [
      "Odd numbers in the list are:\n",
      "1\n",
      "3\n",
      "7\n",
      "9\n",
      "5\n"
     ]
    }
   ],
   "source": [
    "mylist=[2,1,4,3,-6,7,9,5]                   #given list\n",
    "print(\"Odd numbers in the list are:\")\n",
    "for i in mylist:                            #it will iterate over all elememts of the list\n",
    "    if i%2!=0 and i>0:                     #and operator will only be true if both conditions are satisfied\n",
    "        print(i)\n"
   ]
  }
 ],
 "metadata": {
  "kernelspec": {
   "display_name": "Python 3",
   "language": "python",
   "name": "python3"
  },
  "language_info": {
   "codemirror_mode": {
    "name": "ipython",
    "version": 3
   },
   "file_extension": ".py",
   "mimetype": "text/x-python",
   "name": "python",
   "nbconvert_exporter": "python",
   "pygments_lexer": "ipython3",
   "version": "3.11.4"
  }
 },
 "nbformat": 4,
 "nbformat_minor": 2
}

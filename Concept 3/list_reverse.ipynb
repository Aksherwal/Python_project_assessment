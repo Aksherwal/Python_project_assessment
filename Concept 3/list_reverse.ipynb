{
 "cells": [
  {
   "cell_type": "markdown",
   "metadata": {},
   "source": [
    "# 8. Given a list of numbers, create another list in reverse order."
   ]
  },
  {
   "cell_type": "code",
   "execution_count": 5,
   "metadata": {},
   "outputs": [],
   "source": [
    "def reverse(mylist):                     #defined a function in which list will be the input\n",
    "    new_list=[]                         #this will be our new reversed list\n",
    "    #len() gives numbers of elements of a list\n",
    "    #in list indexing it starts from 0\n",
    "    # len(list)-1 is the index of the last elements                           \n",
    "    for i in range(len(mylist)-1,-1,-1):      # it will go upto 0(one less than -1 if go backward on number line) last -1 denotes that range is decreasing by 1\n",
    "        new_list.append(mylist[i])         #append() add one element each time in new_list at the end of the list and that is of ith index of mylist\n",
    "    return new_list"
   ]
  },
  {
   "cell_type": "code",
   "execution_count": 6,
   "metadata": {},
   "outputs": [
    {
     "data": {
      "text/plain": [
       "[0, 9, 6, 12, -4, 5, 7, 2]"
      ]
     },
     "execution_count": 6,
     "metadata": {},
     "output_type": "execute_result"
    }
   ],
   "source": [
    "reverse([2,7,5,-4,12,6,9,0])"
   ]
  }
 ],
 "metadata": {
  "kernelspec": {
   "display_name": "Python 3",
   "language": "python",
   "name": "python3"
  },
  "language_info": {
   "codemirror_mode": {
    "name": "ipython",
    "version": 3
   },
   "file_extension": ".py",
   "mimetype": "text/x-python",
   "name": "python",
   "nbconvert_exporter": "python",
   "pygments_lexer": "ipython3",
   "version": "3.11.4"
  }
 },
 "nbformat": 4,
 "nbformat_minor": 2
}

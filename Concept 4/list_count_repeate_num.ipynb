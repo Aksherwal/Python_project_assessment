{
 "cells": [
  {
   "cell_type": "markdown",
   "metadata": {},
   "source": [
    "# 6. Given a list of numbers, find out how many times each number occurs in the list."
   ]
  },
  {
   "cell_type": "code",
   "execution_count": 3,
   "metadata": {},
   "outputs": [
    {
     "name": "stdout",
     "output_type": "stream",
     "text": [
      "2 is 3 times in the given list.\n",
      "8 is 2 times in the given list.\n",
      "6 is 4 times in the given list.\n",
      "7 is 2 times in the given list.\n",
      "5 is 1 times in the given list.\n",
      "0 is 1 times in the given list.\n"
     ]
    }
   ],
   "source": [
    "mylist=[2,8,6,7,2,6,7,6,5,2,0,6,8]       #given list\n",
    "newlist=[]                         #this list will have individual elements of given list(not repeated)\n",
    "for i in mylist:\n",
    "    if i not in newlist:\n",
    "        newlist.append(i)          #now newlist have each element of mylist without repeate\n",
    "for j in newlist:\n",
    "    count=0\n",
    "    for k in mylist:         #checking for every element in newlist\n",
    "        if j==k:                        #whenever they will be same count will increase by 1\n",
    "            count+=1\n",
    "    print(j,\"is\",count,\"times in the given list.\")"
   ]
  }
 ],
 "metadata": {
  "kernelspec": {
   "display_name": "Python 3",
   "language": "python",
   "name": "python3"
  },
  "language_info": {
   "codemirror_mode": {
    "name": "ipython",
    "version": 3
   },
   "file_extension": ".py",
   "mimetype": "text/x-python",
   "name": "python",
   "nbconvert_exporter": "python",
   "pygments_lexer": "ipython3",
   "version": "3.11.4"
  }
 },
 "nbformat": 4,
 "nbformat_minor": 2
}

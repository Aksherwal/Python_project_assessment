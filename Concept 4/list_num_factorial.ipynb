{
 "cells": [
  {
   "cell_type": "markdown",
   "metadata": {},
   "source": [
    "# 1. Given a list of positive integers, find the factorial of all the numbers."
   ]
  },
  {
   "cell_type": "code",
   "execution_count": 1,
   "metadata": {},
   "outputs": [
    {
     "name": "stdout",
     "output_type": "stream",
     "text": [
      "Factorial of 2 is 2\n",
      "Factorial of 5 is 120\n",
      "Factorial of 3 is 6\n",
      "Factorial of 4 is 24\n",
      "Factorial of 0 is 1\n",
      "Factorial of 1 is 1\n",
      "Factorial of -6 (negative number) is not defined\n"
     ]
    }
   ],
   "source": [
    "mylist=[2,5,3,4,0,1,-6]             #given list\n",
    "for i in mylist:\n",
    "    if i>=2:                        #calculating for greater than equal to 2 \n",
    "        fact=1\n",
    "        for j in range(2,i+1):         #range will give numbers from 2 to the number from listm to get multiplied\n",
    "            fact*=j                   #each number from range will be multiplied to fact \n",
    "        print(\"Factorial of\",i,\"is\",fact)\n",
    "    elif i<0:                                                        #in case if list has negative number\n",
    "        print(\"Factorial of\",i,\"(negative number) is not defined\")\n",
    "    else:\n",
    "         print(\"Factorial of\",i,\"is\",1)                             #factorial of 0 and 1 is 1\n",
    "\n"
   ]
  }
 ],
 "metadata": {
  "kernelspec": {
   "display_name": "Python 3",
   "language": "python",
   "name": "python3"
  },
  "language_info": {
   "codemirror_mode": {
    "name": "ipython",
    "version": 3
   },
   "file_extension": ".py",
   "mimetype": "text/x-python",
   "name": "python",
   "nbconvert_exporter": "python",
   "pygments_lexer": "ipython3",
   "version": "3.11.4"
  }
 },
 "nbformat": 4,
 "nbformat_minor": 2
}

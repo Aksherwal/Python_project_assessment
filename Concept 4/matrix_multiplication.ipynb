{
 "cells": [
  {
   "cell_type": "markdown",
   "metadata": {},
   "source": [
    "# 10. Given two 3x3 matrices with values stored in two lists of length 9, find their product."
   ]
  },
  {
   "cell_type": "code",
   "execution_count": 2,
   "metadata": {},
   "outputs": [
    {
     "name": "stdout",
     "output_type": "stream",
     "text": [
      "[[30, 24, 18], [84, 69, 54], [138, 114, 90]]\n"
     ]
    }
   ],
   "source": [
    "A=[[1,2,3],[4,5,6],[7,8,9]]\n",
    "B=[[9,8,7],[6,5,4],[3,2,1]]\n",
    "C=[[0,0,0],[0,0,0],[0,0,0]]          #we will add corresponding value to this matrix after multiplication.\n",
    "for x in range(3):       #since it is given 3x3 matrix , we have taken range as 3 to itrate over each row\n",
    "    for i in range(3):\n",
    "        for j in range(3):\n",
    "            C[x][i]+=A[x][j]*B[j][i]    #it multiplies elements from  rows of A to the elements of columns of B and store their addition to required place\n",
    "print(C)\n"
   ]
  }
 ],
 "metadata": {
  "kernelspec": {
   "display_name": "Python 3",
   "language": "python",
   "name": "python3"
  },
  "language_info": {
   "codemirror_mode": {
    "name": "ipython",
    "version": 3
   },
   "file_extension": ".py",
   "mimetype": "text/x-python",
   "name": "python",
   "nbconvert_exporter": "python",
   "pygments_lexer": "ipython3",
   "version": "3.11.4"
  }
 },
 "nbformat": 4,
 "nbformat_minor": 2
}

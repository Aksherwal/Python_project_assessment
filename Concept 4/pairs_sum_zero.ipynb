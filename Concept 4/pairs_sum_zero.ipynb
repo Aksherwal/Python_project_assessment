{
 "cells": [
  {
   "cell_type": "markdown",
   "metadata": {},
   "source": [
    "# 7. Given a list of integers, find all pairs of integers in the list whose sum is zero."
   ]
  },
  {
   "cell_type": "code",
   "execution_count": 3,
   "metadata": {},
   "outputs": [
    {
     "name": "stdout",
     "output_type": "stream",
     "text": [
      "the pairs are:\n",
      "2 -2\n",
      "4 -4\n",
      "1 -1\n"
     ]
    }
   ],
   "source": [
    "mylist=[2,7,4,6,3,1,-2,8,-4,22,-1]\n",
    "newlist=[]\n",
    "for i in mylist:\n",
    "    if i not in newlist and (-i) not in newlist: #to add unique and positive elements in the newlist\n",
    "        newlist.append(i)\n",
    "print(\"the pairs are:\")\n",
    "for j in newlist:\n",
    "    if -j in mylist:  #checking if its negative pair is in original list or not\n",
    "        print(j,-j)\n"
   ]
  }
 ],
 "metadata": {
  "kernelspec": {
   "display_name": "Python 3",
   "language": "python",
   "name": "python3"
  },
  "language_info": {
   "codemirror_mode": {
    "name": "ipython",
    "version": 3
   },
   "file_extension": ".py",
   "mimetype": "text/x-python",
   "name": "python",
   "nbconvert_exporter": "python",
   "pygments_lexer": "ipython3",
   "version": "3.11.4"
  }
 },
 "nbformat": 4,
 "nbformat_minor": 2
}

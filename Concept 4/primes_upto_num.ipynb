{
 "cells": [
  {
   "cell_type": "markdown",
   "metadata": {},
   "source": [
    "# 4. Given a positive integer, find out all the prime numbers from 1 upto this number"
   ]
  },
  {
   "cell_type": "code",
   "execution_count": 1,
   "metadata": {},
   "outputs": [
    {
     "name": "stdout",
     "output_type": "stream",
     "text": [
      "Prime numbers from 1 upto 5 are:\n",
      "2\n",
      "3\n",
      "5\n"
     ]
    }
   ],
   "source": [
    "num=int(input(\"Enter a positive integer\"))\n",
    "if num>=2:                                                  #2 is smallest prime number\n",
    "    print(\"Prime numbers from 1 upto\",num,\"are:\")      \n",
    "    for i in range(2,num+1):                            #taking all numbers upto num\n",
    "        sq_root=int(i**0.5)                             #we will check divisiblity upto square root of that number(least possible numbers to check)\n",
    "        count=0\n",
    "        for j in range(2,sq_root+1):\n",
    "            if i%j==0:                                #if it is divisibile by any number count will increase and it will not be prime\n",
    "                count+=1\n",
    "        if count==0:                                 #count remains zero means there is no any number till square root which can dvide i coming from above\n",
    "            print(i)\n",
    "else:\n",
    "    print(\"Please enter an integer above or equal to 2\")\n"
   ]
  }
 ],
 "metadata": {
  "kernelspec": {
   "display_name": "Python 3",
   "language": "python",
   "name": "python3"
  },
  "language_info": {
   "codemirror_mode": {
    "name": "ipython",
    "version": 3
   },
   "file_extension": ".py",
   "mimetype": "text/x-python",
   "name": "python",
   "nbconvert_exporter": "python",
   "pygments_lexer": "ipython3",
   "version": "3.11.4"
  }
 },
 "nbformat": 4,
 "nbformat_minor": 2
}

{
 "cells": [
  {
   "cell_type": "markdown",
   "metadata": {},
   "source": [
    "# 5. Given a positive integer, find out sum of all the prime numbers from 1 upto this number"
   ]
  },
  {
   "cell_type": "code",
   "execution_count": 3,
   "metadata": {},
   "outputs": [],
   "source": [
    "def sum_primes(n):            #defined a function to perform our task\n",
    "    if n>=2:                    #2 is smallest prime number\n",
    "        sum_all=0                            \n",
    "        for i in range(2,n+1):                     #taking all numbers upto num\n",
    "            sq_root=int(i**0.5)              #we will check divisiblity upto square root of that number(least possible numbers to check)\n",
    "            count=0\n",
    "            for j in range(2,sq_root+1):\n",
    "                if i%j==0:                         #if it is divisibile by any number count will increase and it will not be prime\n",
    "                    count+=1\n",
    "            if count==0:                     #count remains zero means there is no any number till square root which can dvide i coming from above\n",
    "                sum_all=sum_all+i\n",
    "        return sum_all\n",
    "    else:\n",
    "        return 0                 #in all other cases\n"
   ]
  },
  {
   "cell_type": "code",
   "execution_count": 5,
   "metadata": {},
   "outputs": [
    {
     "data": {
      "text/plain": [
       "5"
      ]
     },
     "execution_count": 5,
     "metadata": {},
     "output_type": "execute_result"
    }
   ],
   "source": [
    "sum_primes(3)"
   ]
  }
 ],
 "metadata": {
  "kernelspec": {
   "display_name": "Python 3",
   "language": "python",
   "name": "python3"
  },
  "language_info": {
   "codemirror_mode": {
    "name": "ipython",
    "version": 3
   },
   "file_extension": ".py",
   "mimetype": "text/x-python",
   "name": "python",
   "nbconvert_exporter": "python",
   "pygments_lexer": "ipython3",
   "version": "3.11.4"
  }
 },
 "nbformat": 4,
 "nbformat_minor": 2
}

{
 "cells": [
  {
   "cell_type": "markdown",
   "metadata": {},
   "source": [
    "# 3. Check if a key exists in a dictionary:\n",
    "# sample_dict = {‘a’: 100, ‘b’: 200, ‘c’: 300}\n",
    "# key_needed = ‘d’\n",
    "# Check if a value exists in a dictionary:\n",
    "# sample_dict = {‘a’: 100, ‘b’: 200, ‘c’: 300}\n",
    "# value_needed = 200"
   ]
  },
  {
   "cell_type": "code",
   "execution_count": 1,
   "metadata": {},
   "outputs": [],
   "source": [
    "def check_key(mykey):                          #defining function for checking key\n",
    "    sample_dict={\"a\":100,\"b\":200,\"c\":300}\n",
    "    if mykey in sample_dict.keys():          #checking input of function exist in keys or not\n",
    "        return \"Key found in database\"\n",
    "    else:\n",
    "        return \"Key not found\"\n",
    "    \n",
    "def check_value(myvalue):                         #defined function for checking value\n",
    "    sample_dict={\"a\":100,\"b\":200,\"c\":300}\n",
    "    if myvalue in sample_dict.values():         #checking input of function exist in values or not\n",
    "        return \"Value found in database\"\n",
    "    else:\n",
    "        return \"Value not found\"\n",
    "    \n",
    "    "
   ]
  },
  {
   "cell_type": "code",
   "execution_count": 2,
   "metadata": {},
   "outputs": [
    {
     "data": {
      "text/plain": [
       "'Key not found'"
      ]
     },
     "execution_count": 2,
     "metadata": {},
     "output_type": "execute_result"
    }
   ],
   "source": [
    "check_key(\"d\")"
   ]
  },
  {
   "cell_type": "code",
   "execution_count": 3,
   "metadata": {},
   "outputs": [
    {
     "data": {
      "text/plain": [
       "'Value found in database'"
      ]
     },
     "execution_count": 3,
     "metadata": {},
     "output_type": "execute_result"
    }
   ],
   "source": [
    "check_value(200)"
   ]
  }
 ],
 "metadata": {
  "kernelspec": {
   "display_name": "Python 3",
   "language": "python",
   "name": "python3"
  },
  "language_info": {
   "codemirror_mode": {
    "name": "ipython",
    "version": 3
   },
   "file_extension": ".py",
   "mimetype": "text/x-python",
   "name": "python",
   "nbconvert_exporter": "python",
   "pygments_lexer": "ipython3",
   "version": "3.11.4"
  }
 },
 "nbformat": 4,
 "nbformat_minor": 2
}

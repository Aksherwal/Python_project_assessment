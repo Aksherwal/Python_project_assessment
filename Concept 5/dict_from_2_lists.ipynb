{
 "cells": [
  {
   "cell_type": "markdown",
   "metadata": {},
   "source": [
    "# 1. Convert these two lists into a dictionary. Take the keys from the first list, and values from the second one.\n",
    "# keys = [‘Ten’, ‘Twenty’, ‘Thirty’]\n",
    "# values = [10, 20, 30]"
   ]
  },
  {
   "cell_type": "code",
   "execution_count": 1,
   "metadata": {},
   "outputs": [
    {
     "name": "stdout",
     "output_type": "stream",
     "text": [
      "{'Ten': 10, 'Twenty': 20, 'Thirty': 30}\n"
     ]
    }
   ],
   "source": [
    "list1 = [\"Ten\",\"Twenty\",\"Thirty\"]       #given lists\n",
    "list2 = [10, 20, 30]\n",
    "mydict={}                #our dictionary that will be printed later after after adding some content \n",
    "for i in range(len(list1)):      #this range will go on every index of both the lists\n",
    "    mydict[list1[i]]=list2[i]         #adding key value pair by the method -> mydict[key]=value\n",
    "print(mydict)\n",
    "\n"
   ]
  }
 ],
 "metadata": {
  "kernelspec": {
   "display_name": "Python 3",
   "language": "python",
   "name": "python3"
  },
  "language_info": {
   "codemirror_mode": {
    "name": "ipython",
    "version": 3
   },
   "file_extension": ".py",
   "mimetype": "text/x-python",
   "name": "python",
   "nbconvert_exporter": "python",
   "pygments_lexer": "ipython3",
   "version": "3.11.4"
  }
 },
 "nbformat": 4,
 "nbformat_minor": 2
}

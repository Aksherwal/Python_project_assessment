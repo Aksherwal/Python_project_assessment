{
 "cells": [
  {
   "cell_type": "markdown",
   "metadata": {},
   "source": [
    "9. Create a dictionary whose keys are the names of your family members and friends, and the values are the list of fruits they like to eat. Now if the user gives a fruit as input, the code should print the list of names who like this fruit. Write another code to print the list of people who do not like this fruit. Using this dictionary as input, write a code to make a consolidated list of all the fruit names present in the values of various keys. This list should not have any duplicate entries. Do not use the set() function."
   ]
  },
  {
   "cell_type": "code",
   "execution_count": 2,
   "metadata": {},
   "outputs": [
    {
     "name": "stdout",
     "output_type": "stream",
     "text": [
      "People who like  Banana  are:  ['Ajay', 'Vijay']\n",
      "People who dislike  Banana  are:  ['Suraj']\n"
     ]
    }
   ],
   "source": [
    "dict_names={\"Ajay\":['orange',\"banana\"],\"Vijay\":[\"apple\",\"grapes\",\"banana\"],\"Suraj\":[\"watermelon\",\"strawberry\"]} #our dictionary\n",
    "fruit=input(\"Enter a fruit name \") #taking user input as name of fruit\n",
    "fruit_name=fruit.lower()              #since our dictionary has lower case string as fruit name\n",
    "likes=[]  #we will append names in these lists who like or dislike the fruit given by user\n",
    "dislikes=[]\n",
    "for key,value in dict_names.items():\n",
    "    if fruit_name in value:              #checking fruit name given by user is in our dictionary values or not\n",
    "        likes.append(key)\n",
    "    else:\n",
    "        dislikes.append(key)\n",
    "print(\"People who like \",fruit,\" are: \",likes)\n",
    "print(\"People who dislike \",fruit,\" are: \",dislikes)\n"
   ]
  },
  {
   "cell_type": "code",
   "execution_count": 3,
   "metadata": {},
   "outputs": [
    {
     "name": "stdout",
     "output_type": "stream",
     "text": [
      "The list of fruits is: ['orange', 'banana', 'apple', 'grapes', 'watermelon', 'strawberry']\n"
     ]
    }
   ],
   "source": [
    "fruits_name=[]\n",
    "for value in dict_names.values():\n",
    "    for name in value:\n",
    "        if name not in fruits_name:\n",
    "            fruits_name.append(name)\n",
    "print(\"The list of fruits is:\", fruits_name)\n",
    "\n"
   ]
  }
 ],
 "metadata": {
  "kernelspec": {
   "display_name": "Python 3",
   "language": "python",
   "name": "python3"
  },
  "language_info": {
   "codemirror_mode": {
    "name": "ipython",
    "version": 3
   },
   "file_extension": ".py",
   "mimetype": "text/x-python",
   "name": "python",
   "nbconvert_exporter": "python",
   "pygments_lexer": "ipython3",
   "version": "3.11.4"
  }
 },
 "nbformat": 4,
 "nbformat_minor": 2
}

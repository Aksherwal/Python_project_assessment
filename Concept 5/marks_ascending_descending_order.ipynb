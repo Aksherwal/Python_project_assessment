{
 "cells": [
  {
   "cell_type": "markdown",
   "metadata": {},
   "source": [
    "# 8. Create a dictionary of your marks in various subjects and then sort it by its values first in descending order, and then in ascending order. Do not use any inbuilt sorting functions."
   ]
  },
  {
   "cell_type": "code",
   "execution_count": 10,
   "metadata": {},
   "outputs": [
    {
     "name": "stdout",
     "output_type": "stream",
     "text": [
      "Descending order: {'English': 99, 'Maths': 94, 'Physics': 92, 'Chemistry': 90, 'CS': 88}\n",
      "Ascending order: {'CS': 88, 'Chemistry': 90, 'Physics': 92, 'Maths': 94, 'English': 99}\n"
     ]
    }
   ],
   "source": [
    "dict_marks={\"Physics\":92, \"Chemistry\":90,\"Maths\":94, \"English\":99, \"CS\":88}\n",
    "dict_ascending={}\n",
    "dict_descending={}\n",
    "list_marks=[]\n",
    "for i in dict_marks.values():\n",
    "    list_marks.append(i)      #all values from the dictionary is added to this list\n",
    "\n",
    "#for descending order\n",
    "for j in range(len(list_marks)):            \n",
    "    for k in range(j+1,len(list_marks)):     #this range will go for elements remaining on right side of it\n",
    "        if list_marks[j]<list_marks[k]:\n",
    "            list_marks[j],list_marks[k]=list_marks[k],list_marks[j]  # we just swap those pairs which are not in required order, our list is now in descending order\n",
    "for x in list_marks:\n",
    "    for key,value in dict_marks.items():\n",
    "        if value==x:                    #matching the value from the dict and fetching the corresponding key\n",
    "            dict_descending[key]=value\n",
    "print(\"Descending order:\",dict_descending)\n",
    "\n",
    "# for ascending order                             #same steps are followed for ascending order also\n",
    "for j in range(len(list_marks)):            \n",
    "    for k in range(j+1,len(list_marks)):     #this range will go for elements remaining on right side of it\n",
    "        if list_marks[j]>list_marks[k]:\n",
    "            list_marks[j],list_marks[k]=list_marks[k],list_marks[j]  #our list is now in ascending order\n",
    "for x in list_marks:\n",
    "    for key,value in dict_marks.items():\n",
    "        if value==x:\n",
    "            dict_ascending[key]=value\n",
    "print(\"Ascending order:\",dict_ascending)\n",
    "    \n"
   ]
  }
 ],
 "metadata": {
  "kernelspec": {
   "display_name": "Python 3",
   "language": "python",
   "name": "python3"
  },
  "language_info": {
   "codemirror_mode": {
    "name": "ipython",
    "version": 3
   },
   "file_extension": ".py",
   "mimetype": "text/x-python",
   "name": "python",
   "nbconvert_exporter": "python",
   "pygments_lexer": "ipython3",
   "version": "3.11.4"
  }
 },
 "nbformat": 4,
 "nbformat_minor": 2
}

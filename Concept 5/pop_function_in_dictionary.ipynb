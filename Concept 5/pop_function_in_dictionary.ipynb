{
 "cells": [
  {
   "cell_type": "markdown",
   "metadata": {},
   "source": [
    "# 5. Remove a key from a dictionary:\n",
    "# dict_name.pop(key_name)\n",
    "# What does this function return?\n",
    "# Use pop to rename a key."
   ]
  },
  {
   "cell_type": "code",
   "execution_count": 4,
   "metadata": {},
   "outputs": [
    {
     "name": "stdout",
     "output_type": "stream",
     "text": [
      "Original dictionary: {'a': 100, 'b': 200, 'c': 300, 'd': 400}\n",
      "After using pop function {'a': 100, 'c': 300, 'd': 400}\n",
      "After rename: {'a': 100, 'c': 300, 'x': 400}\n"
     ]
    }
   ],
   "source": [
    "mydict={\"a\":100,\"b\":200,\"c\":300,\"d\":400}\n",
    "print(\"Original dictionary:\",mydict)  #printing the original dictionary\n",
    "mydict.pop(\"b\")                        #applying pop function on the key \"b\" and the key along with its value is deleted\n",
    "print(\"After using pop function\",mydict) \n",
    "value=mydict[\"d\"]                        #storing value corresponding to the key \"d\" as we will use pop function on it later\n",
    "mydict.pop(\"d\")\n",
    "# we will rename d to x\n",
    "mydict[\"x\"]=value                       #assigning the same value of privious key \"d\" to new key \"x\"\n",
    "print(\"After rename:\",mydict)"
   ]
  }
 ],
 "metadata": {
  "kernelspec": {
   "display_name": "Python 3",
   "language": "python",
   "name": "python3"
  },
  "language_info": {
   "codemirror_mode": {
    "name": "ipython",
    "version": 3
   },
   "file_extension": ".py",
   "mimetype": "text/x-python",
   "name": "python",
   "nbconvert_exporter": "python",
   "pygments_lexer": "ipython3",
   "version": "3.11.4"
  }
 },
 "nbformat": 4,
 "nbformat_minor": 2
}

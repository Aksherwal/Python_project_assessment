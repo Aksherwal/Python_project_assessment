{
 "cells": [
  {
   "cell_type": "markdown",
   "metadata": {},
   "source": [
    "6. Create a dictionary to store the total marks of 5 students in the class in 3 subjects (Course1, Course2, Course3). The keys must be the student names, and the values must be the list of marks. Create another list which has the course names in the same order as the marks are stored in the dictionary values. Now write a nested for loop to print the marks for each student exam wise.\n",
    "Student1\n",
    "Course1 marks : 82\n",
    "Course2 marks : 84\n",
    "Course3 marks : 72\n",
    "Student2\n",
    "Course1 marks : 87\n",
    "Course2 marks : 83\n",
    "Course3 marks : 78"
   ]
  },
  {
   "cell_type": "code",
   "execution_count": 1,
   "metadata": {},
   "outputs": [
    {
     "name": "stdout",
     "output_type": "stream",
     "text": [
      "Aakash\n",
      "Maths : 99\n",
      "Physics : 88\n",
      "Chemistry : 77\n",
      "________________\n",
      "Deepali\n",
      "Maths : 95\n",
      "Physics : 89\n",
      "Chemistry : 94\n",
      "________________\n",
      "Manish\n",
      "Maths : 86\n",
      "Physics : 75\n",
      "Chemistry : 78\n",
      "________________\n",
      "Shivam\n",
      "Maths : 86\n",
      "Physics : 88\n",
      "Chemistry : 79\n",
      "________________\n",
      "Sakshi\n",
      "Maths : 92\n",
      "Physics : 89\n",
      "Chemistry : 93\n",
      "________________\n"
     ]
    }
   ],
   "source": [
    "dict_marks={}                     #created a dictionary\n",
    "dict_marks[\"Aakash\"]=[99,88,77]      #adding elements as mentioned in questions\n",
    "dict_marks[\"Deepali\"]=[95,89,94]\n",
    "dict_marks[\"Manish\"]=[86,75,78]\n",
    "dict_marks[\"Shivam\"]=[86,88,79]\n",
    "dict_marks[\"Sakshi\"]=[92,89,93]\n",
    "course_name=[\"Maths\",\"Physics\",\"Chemistry\"]     #list of subjects\n",
    "for key,value in dict_marks.items():           #accessed all the key value pairs of the dictionary\n",
    "    print(key)                               #this will print the name as name is the key\n",
    "    for i in range(len(course_name)):        #this range will go from 0-2 (one less than length of list i.e. 3)\n",
    "        print(course_name[i],\":\",value[i])   #list of subject and marks will be printed as per requirement\n",
    "    print(\"________________\")                #line to seperate each student data"
   ]
  }
 ],
 "metadata": {
  "kernelspec": {
   "display_name": "Python 3",
   "language": "python",
   "name": "python3"
  },
  "language_info": {
   "codemirror_mode": {
    "name": "ipython",
    "version": 3
   },
   "file_extension": ".py",
   "mimetype": "text/x-python",
   "name": "python",
   "nbconvert_exporter": "python",
   "pygments_lexer": "ipython3",
   "version": "3.11.4"
  }
 },
 "nbformat": 4,
 "nbformat_minor": 2
}

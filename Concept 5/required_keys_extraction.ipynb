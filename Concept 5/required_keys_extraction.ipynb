{
 "cells": [
  {
   "cell_type": "markdown",
   "metadata": {},
   "source": [
    "# 4. Create a new dictionary so that it only has the keys mentioned in another list\n",
    "# sample_dict = { “name”: “Kelly”, “age”: 25, “salary”: 8000, “city”: “New york”}\n",
    "# # Keys to extract\n",
    "# keys = [“name”, “salary”]"
   ]
  },
  {
   "cell_type": "code",
   "execution_count": 1,
   "metadata": {},
   "outputs": [
    {
     "name": "stdout",
     "output_type": "stream",
     "text": [
      "{'name': 'Kelly', 'salary': 8000}\n"
     ]
    }
   ],
   "source": [
    "sample_dict = { \"name\": \"Kelly\",\"age\": 25, \"salary\": 8000,\"city\": \"New york\"}   #given sample dictionary\n",
    "new_dict={}                                 #new dictionary that will have required data\n",
    "keys=[\"name\",\"salary\"]       #list of keys to extract\n",
    "for key,value in sample_dict.items():        #accessing key and value pairs from sample dictionary\n",
    "    if key in keys:              #condition for matching reqired keys from the list        \n",
    "        new_dict[key]=value       #adding those in new dictionary\n",
    "print(new_dict)"
   ]
  }
 ],
 "metadata": {
  "kernelspec": {
   "display_name": "Python 3",
   "language": "python",
   "name": "python3"
  },
  "language_info": {
   "codemirror_mode": {
    "name": "ipython",
    "version": 3
   },
   "file_extension": ".py",
   "mimetype": "text/x-python",
   "name": "python",
   "nbconvert_exporter": "python",
   "pygments_lexer": "ipython3",
   "version": "3.11.4"
  }
 },
 "nbformat": 4,
 "nbformat_minor": 2
}

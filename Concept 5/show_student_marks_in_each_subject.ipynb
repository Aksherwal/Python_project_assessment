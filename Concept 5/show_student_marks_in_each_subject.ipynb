{
 "cells": [
  {
   "cell_type": "markdown",
   "metadata": {},
   "source": [
    " 6. Create a dictionary to store the total marks of 5 students in the class in 3 subjects (Course1, Course2, Course3). The keys must be the student names, and the values must be the list of marks. Create another list which has the course names in the same order as the marks are stored in the dictionary values. Now write a nested for loop to print the marks for each student exam wise.\n",
    "Student1\n",
    " Course1 marks : 82\n",
    " Course2 marks : 84\n",
    " Course3 marks : 72\n",
    "Student2\n",
    " Course1 marks : 87\n",
    " Course2 marks : 83\n",
    " Course3 marks : 78"
   ]
  },
  {
   "cell_type": "code",
   "execution_count": 4,
   "metadata": {},
   "outputs": [
    {
     "name": "stdout",
     "output_type": "stream",
     "text": [
      "Aakash\n",
      "Physics : 99\n",
      "Chemistry : 88\n",
      "Maths : 77\n",
      "_____________\n",
      "Deepali\n",
      "Physics : 95\n",
      "Chemistry : 89\n",
      "Maths : 94\n",
      "_____________\n",
      "Manish\n",
      "Physics : 86\n",
      "Chemistry : 75\n",
      "Maths : 78\n",
      "_____________\n",
      "Shivam\n",
      "Physics : 86\n",
      "Chemistry : 88\n",
      "Maths : 79\n",
      "_____________\n",
      "Sakshi\n",
      "Physics : 92\n",
      "Chemistry : 89\n",
      "Maths : 93\n",
      "_____________\n"
     ]
    }
   ],
   "source": [
    "dict_marks={'Aakash': [99, 88, 77], 'Deepali': [95, 89, 94], 'Manish': [86, 75, 78], 'Shivam': [86, 88, 79], 'Sakshi': [92, 89, 93]}\n",
    "courses=[\"Physics\",\"Chemistry\",\"Maths\"]\n",
    "for key,value in dict_marks.items():\n",
    "    print(key)\n",
    "    for i in range(len(courses)):\n",
    "        print(courses[i],\":\",value[i])\n",
    "    print(\"_____________\")"
   ]
  }
 ],
 "metadata": {
  "kernelspec": {
   "display_name": "Python 3",
   "language": "python",
   "name": "python3"
  },
  "language_info": {
   "codemirror_mode": {
    "name": "ipython",
    "version": 3
   },
   "file_extension": ".py",
   "mimetype": "text/x-python",
   "name": "python",
   "nbconvert_exporter": "python",
   "pygments_lexer": "ipython3",
   "version": "3.11.4"
  }
 },
 "nbformat": 4,
 "nbformat_minor": 2
}

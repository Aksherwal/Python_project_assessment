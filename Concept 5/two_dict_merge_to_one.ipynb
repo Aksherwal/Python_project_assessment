{
 "cells": [
  {
   "cell_type": "markdown",
   "metadata": {},
   "source": [
    "# 2. Merge these two dictionaries into one using for loop\n",
    "# dict1 = {‘Ten’: 10, ‘Twenty’: 20, ‘Thirty’: 30}\n",
    "# dict2 = {‘Thirty’: 30, ‘Fourty’: 40, ‘Fifty’: 50}"
   ]
  },
  {
   "cell_type": "code",
   "execution_count": 3,
   "metadata": {},
   "outputs": [
    {
     "name": "stdout",
     "output_type": "stream",
     "text": [
      "{'Ten': 10, 'Twenty': 20, 'Thirty': 30, 'Fourty': 40, 'Fifty': 50}\n"
     ]
    }
   ],
   "source": [
    "dict1 = {\"Ten\": 10, \"Twenty\": 20,\"Thirty\": 30}           #given dictionries\n",
    "dict2 = {\"Thirty\": 30, \"Fourty\": 40, \"Fifty\": 50}\n",
    "dict_new=dict1.copy()                              #copying all data from one dictionary to new dictionary\n",
    "for key,value in dict2.items():              #taking key value pair from other dictionary\n",
    "    if key not in dict_new.keys():         #we will check if key from second dictionary is already present or not(dictionary has unique keys)\n",
    "        dict_new[key]=value                 #adding those pairs\n",
    "print(dict_new)"
   ]
  }
 ],
 "metadata": {
  "kernelspec": {
   "display_name": "Python 3",
   "language": "python",
   "name": "python3"
  },
  "language_info": {
   "codemirror_mode": {
    "name": "ipython",
    "version": 3
   },
   "file_extension": ".py",
   "mimetype": "text/x-python",
   "name": "python",
   "nbconvert_exporter": "python",
   "pygments_lexer": "ipython3",
   "version": "3.11.4"
  }
 },
 "nbformat": 4,
 "nbformat_minor": 2
}

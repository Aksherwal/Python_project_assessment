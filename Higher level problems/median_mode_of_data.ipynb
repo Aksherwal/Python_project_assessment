{
 "cells": [
  {
   "cell_type": "markdown",
   "metadata": {},
   "source": [
    "# 2. Given a list of numbers, find out the median and mode."
   ]
  },
  {
   "cell_type": "code",
   "execution_count": 9,
   "metadata": {},
   "outputs": [
    {
     "name": "stdout",
     "output_type": "stream",
     "text": [
      "Median is: 5\n",
      "Mode is: 3\n"
     ]
    }
   ],
   "source": [
    "list_num=[3,6,5,4,3,2,6,7,8,5,4,3,2,5,7,4,3]      #given list\n",
    "list_new=[]     \n",
    "for i in list_num:\n",
    "    if i not in list_new:           # creatring a list with unique elements\n",
    "        list_new.append(i)\n",
    "\n",
    "#arranging the list in ascending order to get the median\n",
    "for x in range(len(list_new)):\n",
    "    for y in range(x,len(list_new)):       \n",
    "        if list_new[x]>list_new[y]:\n",
    "            list_new[x],list_new[y]=list_new[y],list_new[x]  #swapped those which are not in required order\n",
    "if len(list_new)%2==0:\n",
    "    median=(list_new[len(list_new)/2]+list_new[(len(list_new)/2)-1])/2       # that is average of two elements in the middle of the list\n",
    "    print(\"Median is:\",median)\n",
    "else:\n",
    "    print(\"Median is:\",list_new[(len(list_new)-1)//2])                # this is basically number of middle index\n",
    "\n",
    "#calculating mode\n",
    "times=0       #variable for storing number of times a number appears in the list\n",
    "for i in list_new:\n",
    "    count=0               #count value will be reseted every time for each element in newlist\n",
    "    for j in list_num:\n",
    "        if i==j:\n",
    "            count+=1     \n",
    "    if times<count:       #whenever we get greater number , we update our 'times' variable\n",
    "        times=count\n",
    "        mode=i            #and the final number correspondind to which 'times' value is greatest is our mode\n",
    "print(\"Mode is:\",mode)\n",
    "        \n",
    "\n"
   ]
  }
 ],
 "metadata": {
  "kernelspec": {
   "display_name": "Python 3",
   "language": "python",
   "name": "python3"
  },
  "language_info": {
   "codemirror_mode": {
    "name": "ipython",
    "version": 3
   },
   "file_extension": ".py",
   "mimetype": "text/x-python",
   "name": "python",
   "nbconvert_exporter": "python",
   "pygments_lexer": "ipython3",
   "version": "3.11.4"
  }
 },
 "nbformat": 4,
 "nbformat_minor": 2
}

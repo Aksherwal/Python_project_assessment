{
 "cells": [
  {
   "cell_type": "code",
   "execution_count": 8,
   "metadata": {},
   "outputs": [],
   "source": [
    "def convert_to_morse(message):\n",
    "    dict_symbols = {'a': '.-', 'b': '-...','c': '-.-.', 'd': '-..', 'e': '.','f': '..-.', 'g': '--.', 'h': '....','i': '..', 'j': '.---', 'k': '-.-',\n",
    "    'l': '.-..','m': '--', 'n': '-.','o': '---', 'p': '.--.', 'q': '--.-','r': '.-.', 's': '...', 't': '-','u': '..-', 'v': '...-', 'w': '.--',\n",
    "    'x': '-..-', 'y': '-.--', 'z': '--..','1': '.----', '2': '..---', '3': '...--','4': '....-', '5': '.....', '6': '-....', '7': '--...', \n",
    "    '8': '---..', '9': '----.','0': '-----', ', ': '--..--', '.': '.-.-.-','?': '..--..','-': '-....-', ' ': ' ',}\n",
    "    morse_code=''  #empty string to add morse symbols for every letter in the message\n",
    "    for i in message.lower(): #because our dictionary has \n",
    "        if i in dict_symbols.keys():\n",
    "            morse_code+=dict_symbols[i]+' ' #morse message is always written with apace between characters to clearify the message\n",
    "    return morse_code\n",
    "\n"
   ]
  },
  {
   "cell_type": "code",
   "execution_count": 35,
   "metadata": {},
   "outputs": [],
   "source": [
    "def convert_to_text(morse_message): #morse message is always written with apace between characters\n",
    "    dict_symbols = {'a': '.-', 'b': '-...','c': '-.-.', 'd': '-..', 'e': '.','f': '..-.', 'g': '--.', 'h': '....','i': '..', 'j': '.---', 'k': '-.-',\n",
    "    'l': '.-..','m': '--', 'n': '-.','o': '---', 'p': '.--.', 'q': '--.-','r': '.-.', 's': '...', 't': '-','u': '..-', 'v': '...-', 'w': '.--',\n",
    "    'x': '-..-', 'y': '-.--', 'z': '--..','1': '.----', '2': '..---', '3': '...--','4': '....-', '5': '.....', '6': '-....', '7': '--...', \n",
    "    '8': '---..', '9': '----.','0': '-----', ', ': '--..--', '.': '.-.-.-','?': '..--..','-': '-....-', ' ': ' ',}\n",
    "    dict_letters={}             #we need to swap key and values from dict_symbols to it as we need morse symbols as keys and corresponding letter as value\n",
    "    for key,value in dict_symbols.items():\n",
    "        dict_letters[value]=key             #here we swapped keys and values and added in dict_letters\n",
    "    list_morse_symbols=morse_message.split() #stored each symbol of morse in list without space\n",
    "    text_form='' #empty string, we will add every letter of decoded message to it\n",
    "    for j in list_morse_symbols:\n",
    "        if j in dict_letters.keys():\n",
    "         text_form+=dict_letters[j]+\" \"  #again added space to clearify the text message\n",
    "    return text_form\n"
   ]
  },
  {
   "cell_type": "code",
   "execution_count": 37,
   "metadata": {},
   "outputs": [
    {
     "data": {
      "text/plain": [
       "'.- .- -.- .- ... .... '"
      ]
     },
     "execution_count": 37,
     "metadata": {},
     "output_type": "execute_result"
    }
   ],
   "source": [
    "convert_to_morse(\"aakash\")"
   ]
  },
  {
   "cell_type": "code",
   "execution_count": 38,
   "metadata": {},
   "outputs": [
    {
     "data": {
      "text/plain": [
       "'a a k a s h '"
      ]
     },
     "execution_count": 38,
     "metadata": {},
     "output_type": "execute_result"
    }
   ],
   "source": [
    "convert_to_text('.- .- -.- .- ... ....')"
   ]
  }
 ],
 "metadata": {
  "kernelspec": {
   "display_name": "Python 3",
   "language": "python",
   "name": "python3"
  },
  "language_info": {
   "codemirror_mode": {
    "name": "ipython",
    "version": 3
   },
   "file_extension": ".py",
   "mimetype": "text/x-python",
   "name": "python",
   "nbconvert_exporter": "python",
   "pygments_lexer": "ipython3",
   "version": "3.11.4"
  }
 },
 "nbformat": 4,
 "nbformat_minor": 2
}
